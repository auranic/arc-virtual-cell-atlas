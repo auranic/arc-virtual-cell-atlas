{
 "cells": [
  {
   "cell_type": "code",
   "execution_count": null,
   "id": "3fde776c-ba17-4396-918c-72422ceedd09",
   "metadata": {},
   "outputs": [],
   "source": [
    "import os\n",
    "import io\n",
    "import pandas as pd\n",
    "import scanpy as sc\n",
    "import pyarrow.dataset as ds\n",
    "import gcsfs"
   ]
  },
  {
   "cell_type": "code",
   "execution_count": null,
   "id": "a4ebc297-653d-4e4c-a211-1c95368122b7",
   "metadata": {},
   "outputs": [],
   "source": []
  }
 ],
 "metadata": {
  "kernelspec": {
   "display_name": "tahoe",
   "language": "python",
   "name": "tahoe"
  },
  "language_info": {
   "codemirror_mode": {
    "name": "ipython",
    "version": 3
   },
   "file_extension": ".py",
   "mimetype": "text/x-python",
   "name": "python",
   "nbconvert_exporter": "python",
   "pygments_lexer": "ipython3",
   "version": "3.11.2"
  }
 },
 "nbformat": 4,
 "nbformat_minor": 5
}
