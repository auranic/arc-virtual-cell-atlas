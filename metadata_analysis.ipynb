{
 "cells": [
  {
   "cell_type": "code",
   "execution_count": 1,
   "metadata": {},
   "outputs": [
    {
     "name": "stderr",
     "output_type": "stream",
     "text": [
      "/home/zinovyev/anaconda3/envs/singlecell/lib/python3.10/site-packages/numpy/core/getlimits.py:542: UserWarning: Signature b'\\x00\\xd0\\xcc\\xcc\\xcc\\xcc\\xcc\\xcc\\xfb\\xbf\\x00\\x00\\x00\\x00\\x00\\x00' for <class 'numpy.longdouble'> does not match any known type: falling back to type probe function.\n",
      "This warnings indicates broken support for the dtype!\n",
      "  machar = _get_machar(dtype)\n"
     ]
    }
   ],
   "source": [
    "import os\n",
    "import io\n",
    "import pandas as pd\n",
    "import scanpy as sc"
   ]
  },
  {
   "cell_type": "code",
   "execution_count": 7,
   "metadata": {},
   "outputs": [
    {
     "name": "stdout",
     "output_type": "stream",
     "text": [
      "/home/zinovyev/gits/arc-virtual-cell-atlas\n",
      "/home/zinovyev/gits/arc-virtual-cell-atlas/tahoe-100/data\n"
     ]
    }
   ],
   "source": [
    "!pwd\n",
    "os.chdir('/home/zinovyev/gits/arc-virtual-cell-atlas/tahoe-100/data/')\n",
    "!pwd"
   ]
  },
  {
   "cell_type": "code",
   "execution_count": 9,
   "metadata": {},
   "outputs": [],
   "source": [
    "metadata = pd.read_csv('all_cells.zip')"
   ]
  },
  {
   "cell_type": "code",
   "execution_count": 10,
   "metadata": {},
   "outputs": [
    {
     "data": {
      "text/html": [
       "<div>\n",
       "<style scoped>\n",
       "    .dataframe tbody tr th:only-of-type {\n",
       "        vertical-align: middle;\n",
       "    }\n",
       "\n",
       "    .dataframe tbody tr th {\n",
       "        vertical-align: top;\n",
       "    }\n",
       "\n",
       "    .dataframe thead th {\n",
       "        text-align: right;\n",
       "    }\n",
       "</style>\n",
       "<table border=\"1\" class=\"dataframe\">\n",
       "  <thead>\n",
       "    <tr style=\"text-align: right;\">\n",
       "      <th></th>\n",
       "      <th>Unnamed: 0</th>\n",
       "      <th>plate</th>\n",
       "      <th>mread_count</th>\n",
       "      <th>drugname_drugconc</th>\n",
       "      <th>cell_line</th>\n",
       "      <th>pcnt_mito</th>\n",
       "      <th>cell_name</th>\n",
       "    </tr>\n",
       "  </thead>\n",
       "  <tbody>\n",
       "    <tr>\n",
       "      <th>0</th>\n",
       "      <td>0</td>\n",
       "      <td>plate10</td>\n",
       "      <td>2559</td>\n",
       "      <td>[('Bestatin (hydrochloride)', 0.05, 'uM')]</td>\n",
       "      <td>CVCL_1478</td>\n",
       "      <td>0.029926</td>\n",
       "      <td>NCI-H1573</td>\n",
       "    </tr>\n",
       "    <tr>\n",
       "      <th>1</th>\n",
       "      <td>1</td>\n",
       "      <td>plate10</td>\n",
       "      <td>1470</td>\n",
       "      <td>[('Bestatin (hydrochloride)', 0.05, 'uM')]</td>\n",
       "      <td>CVCL_0459</td>\n",
       "      <td>0.026274</td>\n",
       "      <td>NCI-H460</td>\n",
       "    </tr>\n",
       "    <tr>\n",
       "      <th>2</th>\n",
       "      <td>2</td>\n",
       "      <td>plate10</td>\n",
       "      <td>1446</td>\n",
       "      <td>[('Bestatin (hydrochloride)', 0.05, 'uM')]</td>\n",
       "      <td>CVCL_C466</td>\n",
       "      <td>0.033898</td>\n",
       "      <td>hTERT-HPNE</td>\n",
       "    </tr>\n",
       "    <tr>\n",
       "      <th>3</th>\n",
       "      <td>3</td>\n",
       "      <td>plate10</td>\n",
       "      <td>559</td>\n",
       "      <td>[('Bestatin (hydrochloride)', 0.05, 'uM')]</td>\n",
       "      <td>CVCL_1724</td>\n",
       "      <td>0.037190</td>\n",
       "      <td>SW48</td>\n",
       "    </tr>\n",
       "    <tr>\n",
       "      <th>4</th>\n",
       "      <td>4</td>\n",
       "      <td>plate10</td>\n",
       "      <td>6269</td>\n",
       "      <td>[('Bestatin (hydrochloride)', 0.05, 'uM')]</td>\n",
       "      <td>CVCL_1285</td>\n",
       "      <td>0.017465</td>\n",
       "      <td>HOP62</td>\n",
       "    </tr>\n",
       "    <tr>\n",
       "      <th>...</th>\n",
       "      <td>...</td>\n",
       "      <td>...</td>\n",
       "      <td>...</td>\n",
       "      <td>...</td>\n",
       "      <td>...</td>\n",
       "      <td>...</td>\n",
       "      <td>...</td>\n",
       "    </tr>\n",
       "    <tr>\n",
       "      <th>100648785</th>\n",
       "      <td>100648785</td>\n",
       "      <td>plate9</td>\n",
       "      <td>2852</td>\n",
       "      <td>[('DMSO_TF', 0.0, 'uM')]</td>\n",
       "      <td>CVCL_0293</td>\n",
       "      <td>0.075960</td>\n",
       "      <td>HEC-1-A</td>\n",
       "    </tr>\n",
       "    <tr>\n",
       "      <th>100648786</th>\n",
       "      <td>100648786</td>\n",
       "      <td>plate9</td>\n",
       "      <td>942</td>\n",
       "      <td>[('DMSO_TF', 0.0, 'uM')]</td>\n",
       "      <td>CVCL_0504</td>\n",
       "      <td>0.041250</td>\n",
       "      <td>RKO</td>\n",
       "    </tr>\n",
       "    <tr>\n",
       "      <th>100648787</th>\n",
       "      <td>100648787</td>\n",
       "      <td>plate9</td>\n",
       "      <td>5729</td>\n",
       "      <td>[('DMSO_TF', 0.0, 'uM')]</td>\n",
       "      <td>CVCL_0320</td>\n",
       "      <td>0.064704</td>\n",
       "      <td>HT-29</td>\n",
       "    </tr>\n",
       "    <tr>\n",
       "      <th>100648788</th>\n",
       "      <td>100648788</td>\n",
       "      <td>plate9</td>\n",
       "      <td>2471</td>\n",
       "      <td>[('DMSO_TF', 0.0, 'uM')]</td>\n",
       "      <td>CVCL_1119</td>\n",
       "      <td>0.044881</td>\n",
       "      <td>CFPAC-1</td>\n",
       "    </tr>\n",
       "    <tr>\n",
       "      <th>100648789</th>\n",
       "      <td>100648789</td>\n",
       "      <td>plate9</td>\n",
       "      <td>4069</td>\n",
       "      <td>[('DMSO_TF', 0.0, 'uM')]</td>\n",
       "      <td>CVCL_1517</td>\n",
       "      <td>0.074179</td>\n",
       "      <td>NCI-H2030</td>\n",
       "    </tr>\n",
       "  </tbody>\n",
       "</table>\n",
       "<p>100648790 rows × 7 columns</p>\n",
       "</div>"
      ],
      "text/plain": [
       "           Unnamed: 0    plate  mread_count  \\\n",
       "0                   0  plate10         2559   \n",
       "1                   1  plate10         1470   \n",
       "2                   2  plate10         1446   \n",
       "3                   3  plate10          559   \n",
       "4                   4  plate10         6269   \n",
       "...               ...      ...          ...   \n",
       "100648785   100648785   plate9         2852   \n",
       "100648786   100648786   plate9          942   \n",
       "100648787   100648787   plate9         5729   \n",
       "100648788   100648788   plate9         2471   \n",
       "100648789   100648789   plate9         4069   \n",
       "\n",
       "                                    drugname_drugconc  cell_line  pcnt_mito  \\\n",
       "0          [('Bestatin (hydrochloride)', 0.05, 'uM')]  CVCL_1478   0.029926   \n",
       "1          [('Bestatin (hydrochloride)', 0.05, 'uM')]  CVCL_0459   0.026274   \n",
       "2          [('Bestatin (hydrochloride)', 0.05, 'uM')]  CVCL_C466   0.033898   \n",
       "3          [('Bestatin (hydrochloride)', 0.05, 'uM')]  CVCL_1724   0.037190   \n",
       "4          [('Bestatin (hydrochloride)', 0.05, 'uM')]  CVCL_1285   0.017465   \n",
       "...                                               ...        ...        ...   \n",
       "100648785                    [('DMSO_TF', 0.0, 'uM')]  CVCL_0293   0.075960   \n",
       "100648786                    [('DMSO_TF', 0.0, 'uM')]  CVCL_0504   0.041250   \n",
       "100648787                    [('DMSO_TF', 0.0, 'uM')]  CVCL_0320   0.064704   \n",
       "100648788                    [('DMSO_TF', 0.0, 'uM')]  CVCL_1119   0.044881   \n",
       "100648789                    [('DMSO_TF', 0.0, 'uM')]  CVCL_1517   0.074179   \n",
       "\n",
       "            cell_name  \n",
       "0           NCI-H1573  \n",
       "1            NCI-H460  \n",
       "2          hTERT-HPNE  \n",
       "3                SW48  \n",
       "4               HOP62  \n",
       "...               ...  \n",
       "100648785     HEC-1-A  \n",
       "100648786         RKO  \n",
       "100648787       HT-29  \n",
       "100648788     CFPAC-1  \n",
       "100648789   NCI-H2030  \n",
       "\n",
       "[100648790 rows x 7 columns]"
      ]
     },
     "metadata": {},
     "output_type": "display_data"
    }
   ],
   "source": [
    "display(metadata)"
   ]
  },
  {
   "cell_type": "code",
   "execution_count": 12,
   "metadata": {},
   "outputs": [
    {
     "name": "stdout",
     "output_type": "stream",
     "text": [
      "50 ['HOP62', 'A498', 'SW 1271', 'AsPC-1', 'NCI-H460', 'SNU-1', 'SNU-423', 'BT-474', 'CFPAC-1', 'NCI-H2347', 'LOX-IMVI', 'J82', 'NCI-H2122', 'NCI-H1792', 'SW 900', 'RKO', 'NCI-H2030', 'MIA PaCa-2', 'SW48', 'LoVo', 'CHP-212', 'A-427', 'AN3 CA', 'hTERT-HPNE', 'Panc 03.27', 'NCI-H23', 'LS 180', 'HepG2/C3A', 'SW1417', 'SHP-77', 'PANC-1', 'RPMI-7951', 'SW 1088', 'HCT15', 'C32', 'SW480', 'HT-29', 'C-33 A', 'A549', 'NCI-H661', 'A-172', 'HEC-1-A', 'SK-MEL-2', 'NCI-H596', 'NCI-H1573', 'COLO 205', 'HS-578T', 'Hs 766T', 'H4', 'KATO III']\n"
     ]
    }
   ],
   "source": [
    "cellline_names = list(set(metadata['cell_name'])) \n",
    "print(len(cellline_names),cellline_names)"
   ]
  },
  {
   "cell_type": "code",
   "execution_count": null,
   "metadata": {},
   "outputs": [],
   "source": []
  }
 ],
 "metadata": {
  "kernelspec": {
   "display_name": "singlecell",
   "language": "python",
   "name": "python3"
  },
  "language_info": {
   "codemirror_mode": {
    "name": "ipython",
    "version": 3
   },
   "file_extension": ".py",
   "mimetype": "text/x-python",
   "name": "python",
   "nbconvert_exporter": "python",
   "pygments_lexer": "ipython3",
   "version": "3.10.0"
  },
  "orig_nbformat": 4
 },
 "nbformat": 4,
 "nbformat_minor": 2
}
