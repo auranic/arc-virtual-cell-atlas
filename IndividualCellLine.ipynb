{
 "cells": [
  {
   "cell_type": "code",
   "execution_count": 3,
   "id": "551328a1-6ece-43f0-ac22-ca856ae2673d",
   "metadata": {},
   "outputs": [],
   "source": [
    "import numpy as np\n",
    "import pandas as pd\n",
    "import matplotlib as mpl\n",
    "import matplotlib.pyplot as plt\n",
    "from scipy.stats.mstats import winsorize\n",
    "from scipy import stats\n",
    "from sklearn.neighbors import NearestNeighbors\n",
    "from sklearn.decomposition import PCA\n",
    "from collections import Counter\n",
    "import scanpy as sc\n",
    "import anndata as an\n",
    "import sys\n",
    "sys.path.append('/mnt/c/MyPrograms/__github/scycle/')\n",
    "import scycle as cc\n",
    "\n",
    "import seaborn as sns\n",
    "\n",
    "def smooth_adata_by_pooling(adata,X_embed,n_neighbours=10):\n",
    "    adata_pooled = adata.copy()\n",
    "    nbrs = NearestNeighbors(n_neighbors=n_neighbours).fit(X_embed)\n",
    "    distances, indices = nbrs.kneighbors(X_embed)    \n",
    "    adata_pooled.X = smooth_matrix_by_pooling(get_nd_array(adata.X),indices)\n",
    "    if 'matrix' in adata.layers:\n",
    "        adata_pooled.layers['matrix'] = smooth_matrix_by_pooling(get_nd_array(adata.layers['matrix']),indices)\n",
    "    if 'spliced' in adata.layers:\n",
    "        adata_pooled.layers['spliced'] = smooth_matrix_by_pooling(get_nd_array(adata.layers['spliced']),indices)\n",
    "    if 'unspliced' in adata.layers:\n",
    "        adata_pooled.layers['unspliced'] = smooth_matrix_by_pooling(get_nd_array(adata.layers['unspliced']),indices)\n",
    "    return adata_pooled\n",
    "\n",
    "def smooth_matrix_by_pooling(matrix,indices):\n",
    "    matrix_pooled = matrix.copy()\n",
    "    for i in range(len(indices)):\n",
    "        matrix_pooled[i,:] = np.mean(matrix[indices[i],:],axis=0)\n",
    "    return matrix_pooled\n",
    "\n",
    "def get_nd_array(arr):\n",
    "    x = None\n",
    "    if str(type(arr)):\n",
    "        x = arr\n",
    "    else:\n",
    "        x = arr.toarray()\n",
    "    return x\n",
    "\n",
    "    \n",
    "def preprocessing_without_pooling(adata):\n",
    "    if Normalize_Totals:\n",
    "        sc.pp.normalize_total(adata, target_sum=10000)\n",
    "    if top_variable_genes>0:\n",
    "        #sc.pp.highly_variable_genes(adata,n_top_genes=top_variable_genes,n_bins=20)\n",
    "        #ind_genes = np.where(adata.var['highly_variable'])[0]\n",
    "        vars = np.var(adata.X,axis=0)\n",
    "        inds = np.flip(np.argsort(vars))\n",
    "        ind_genes = inds[0:top_variable_genes]\n",
    "        if 0 in vars[ind_genes]:\n",
    "            ind_first_zero = np.argwhere(vars[ind_genes]==0)[0][0]\n",
    "            ind_genes = ind_genes[0:ind_first_zero]\n",
    "        #print(vars[ind_genes])\n",
    "        adata = adata[:,ind_genes]\n",
    "    if not Already_Log_Transformed:\n",
    "        sc.pp.log1p(adata)\n",
    "    sc.tl.pca(adata,n_comps=number_of_pcs)\n",
    "    return adata\n",
    "\n",
    "# pooling procedure\n",
    "def pooling_procedure(adata):\n",
    "    if n_neighbours_for_pooling>0:    \n",
    "        adata_work = adata_orig.copy()\n",
    "        preprocessing_without_pooling(adata)\n",
    "        sc.tl.pca(adata,n_comps=number_of_pcs)\n",
    "        X_pca = adata.obsm['X_pca']\n",
    "        adata = smooth_adata_by_pooling(adata_work,X_pca,n_neighbours=n_neighbours_for_pooling)\n",
    "    return adata\n",
    "\n",
    "def preprocessing_dataset(adata):\n",
    "    adata = preprocessing_without_pooling(adata)    \n",
    "    sc.tl.pca(adata,n_comps=number_of_pcs)\n",
    "    display(adata)\n",
    "    return adata\n",
    "\n",
    "def ismember(A, B):\n",
    "    dct = {}\n",
    "    for s,i in enumerate(B):\n",
    "        dct[i] = s\n",
    "    return [ dct[a] for a in A ]\n",
    "\n",
    "def load_signature_file(file):\n",
    "    sigs = {}\n",
    "    with open(file,'r',encoding=\"utf8\",errors='ignore') as fin:\n",
    "        line = fin.readline().strip('\\n').strip(' ')\n",
    "        while line:\n",
    "            parts = line.split('\\t')\n",
    "            lst = parts[2:]\n",
    "            lst = [s.split('[')[0] for s in lst if not s=='']\n",
    "            sigs[parts[0]] = lst\n",
    "            line = fin.readline().strip('\\n').strip(' ')\n",
    "    return sigs\n",
    "\n",
    "def load_weighted_signature_file(file):\n",
    "    sigs = {}\n",
    "    with open(file,'r',encoding=\"utf8\",errors='ignore') as fin:\n",
    "        line = fin.readline().strip('\\n').strip(' ')\n",
    "        while line:\n",
    "            parts = line.split('\\t')\n",
    "            lst = parts[2:]\n",
    "            lst1 = [s.split('[')[0] for s in lst if not s=='']\n",
    "            weights = [float(s.split('[')[1].split(']')[0]) for s in lst if not s=='']\n",
    "            #print(lst1,weights)\n",
    "            sigs[parts[0]] = (lst1,weights)\n",
    "            #sigs[parts[0]+'_W'] = weights\n",
    "            line = fin.readline().strip('\\n').strip(' ')\n",
    "    return sigs\n",
    "\n",
    "def calc_scores(anndata,signature_dict):\n",
    "    matrix = anndata.to_df().to_numpy()\n",
    "    scores_dic = {}\n",
    "    for key in signature_dict:\n",
    "        names = np.array(signature_dict[key])\n",
    "        inds = np.where(np.isin(anndata.var_names,names))[0]\n",
    "        matrix_sel = matrix[:,inds]\n",
    "        scores = np.mean(matrix_sel,axis=1)\n",
    "        scores_dic[key] = scores\n",
    "    return scores_dic\n",
    "\n",
    "def calc_weighted_scores(anndata,signature_dict):\n",
    "    matrix = anndata.to_df().to_numpy()\n",
    "    scores_dic = {}\n",
    "    for key in signature_dict:\n",
    "        names_weights = signature_dict[key]\n",
    "        names = names_weights[0]\n",
    "        weights = np.array(names_weights[1])\n",
    "        inds = np.where(np.isin(anndata.var_names,names))[0]\n",
    "        sel_names = anndata.var_names[inds]\n",
    "        ind_in_names = ismember(sel_names,names)\n",
    "        names1 = np.array(names)[ind_in_names]\n",
    "        weights1 = np.array(weights)[ind_in_names]\n",
    "        inds = ismember(names1,anndata.var_names)\n",
    "        matrix_sel = matrix[:,inds]\n",
    "        gene_means = np.mean(matrix_sel,axis=0)\n",
    "        meanmat = np.outer(np.ones(matrix_sel.shape[0]),gene_means)\n",
    "        matrix_sel = matrix_sel-meanmat\n",
    "        scores = np.matmul(matrix_sel,weights1)\n",
    "        scores_dic[key] = scores\n",
    "    return scores_dic\n",
    "\n",
    "\n",
    "def calc_histone_score(adata2k):\n",
    "    histone_names1 = np.argwhere(adata2k.var_names.str.startswith('H1'))\n",
    "    histone_names2 = np.argwhere(adata2k.var_names.str.startswith('H2'))\n",
    "    histone_names3 = np.argwhere(adata2k.var_names.str.startswith('H3'))\n",
    "    histone_names4 = np.argwhere(adata2k.var_names.str.startswith('H4'))\n",
    "    histone_names5 = np.argwhere(adata2k.var_names.str.startswith('HIST'))\n",
    "    histone_names = np.union1d(np.union1d(histone_names1,histone_names2),np.union1d(histone_names3,histone_names4))\n",
    "    histone_names = np.union1d(histone_names,histone_names5)\n",
    "    histone_names = adata2k.var_names[histone_names]\n",
    "    print('Found histone genes:',*histone_names)\n",
    "    inds_histones = np.where(np.isin(adata2k.var_names,histone_names))[0]\n",
    "    matrix = adata2k.to_df().to_numpy()\n",
    "    matrix_sel = matrix[:,inds_histones]\n",
    "    scores = np.mean(matrix_sel,axis=1)\n",
    "    return scores\n",
    "\n",
    "def _compute_ica(adata,thr=2.0):\n",
    "    adata.uns[\"scycle\"] = {}\n",
    "    cc.tl.dimensionality_reduction(adata,method='ica')\n",
    "\n",
    "    idx_g1s = adata.uns['scycle']['find_cc_components']['indices']['G1-S']\n",
    "    adata.uns['S-phase_genes'] = list(adata.var_names[adata.uns['dimRed'].S_[idx_g1s,:]>3])\n",
    "    idx_g2m = adata.uns['scycle']['find_cc_components']['indices']['G2-M']\n",
    "    adata.uns['G2-M_genes'] = list(adata.var_names[adata.uns['dimRed'].S_[idx_g2m,:]>3])\n",
    "    #idx_g2m_inh = adata.uns['scycle']['find_cc_components']['indices']['G2-M-']\n",
    "    #adata.uns['G2-M_INH_genes'] = list(adata.var_names[adata.uns['dimRed'].S_[idx_g2m_inh,:]>3])\n",
    "    #idx_histone = adata.uns['scycle']['find_cc_components']['indices']['Histone']\n",
    "    #adata.uns['Histone_IC_genes'] = list(adata.var_names[adata.uns['dimRed'].S_[idx_histone,:]>3])\n",
    "    signature_dict = {'S-phase':adata.uns['S-phase_genes'],\n",
    "                      'G2-M':adata.uns['G2-M_genes'],\n",
    "                      #'G2-M-':adata.uns['G2-M_INH_genes'],\n",
    "                      #'Histone_IC':adata.uns['Histone_IC_genes']\n",
    "                      }  \n",
    "    sc.pp.highly_variable_genes(adata,n_top_genes=2001,n_bins=20)\n",
    "    ind_genes2k = np.where(adata.var['highly_variable'])[0]\n",
    "    adata2k = adata[:,ind_genes2k]\n",
    "    scores_dic = calc_scores(adata2k,signature_dict)\n",
    "    for score in scores_dic:\n",
    "        adata.obs[score] = scores_dic[score]\n",
    "    adata.varm['P_dimRed'] = adata.uns['dimRed'].S_.T\n",
    "    adata.uns['dimRed'] = None"
   ]
  },
  {
   "cell_type": "code",
   "execution_count": 4,
   "id": "e6e78b7e-9160-4abb-ab43-5a20863a150f",
   "metadata": {},
   "outputs": [],
   "source": [
    "folder = 'data/cellline/'\n",
    "cell_line = 'CVCL_0023'"
   ]
  },
  {
   "cell_type": "code",
   "execution_count": 2,
   "id": "266f9f63-3a1c-4099-8c7f-3a8a30c3845b",
   "metadata": {},
   "outputs": [
    {
     "name": "stdout",
     "output_type": "stream",
     "text": [
      "Copying gs://tahoe100m_bycelllines/plate10_CVCL_0023.h5ad...\n",
      "Copying gs://tahoe100m_bycelllines/plate11_CVCL_0023.h5ad...                    \n",
      "Copying gs://tahoe100m_bycelllines/plate12_CVCL_0023.h5ad...                    \n",
      "Copying gs://tahoe100m_bycelllines/plate13_CVCL_0023.h5ad...\n",
      "Copying gs://tahoe100m_bycelllines/plate14_CVCL_0023.h5ad...                    \n",
      "Copying gs://tahoe100m_bycelllines/plate1_CVCL_0023.h5ad...                     \n",
      "Copying gs://tahoe100m_bycelllines/plate2_CVCL_0023.h5ad...                     \n",
      "Copying gs://tahoe100m_bycelllines/plate3_CVCL_0023.h5ad...                     \n",
      "Copying gs://tahoe100m_bycelllines/plate4_CVCL_0023.h5ad...                     \n",
      "Copying gs://tahoe100m_bycelllines/plate5_CVCL_0023.h5ad...                     \n",
      "Copying gs://tahoe100m_bycelllines/plate6_CVCL_0023.h5ad...                     \n",
      "Copying gs://tahoe100m_bycelllines/plate7_CVCL_0023.h5ad...                     \n",
      "Copying gs://tahoe100m_bycelllines/plate8_CVCL_0023.h5ad...                     \n",
      "Copying gs://tahoe100m_bycelllines/plate9_CVCL_0023.h5ad...                     \n",
      "/ [14/14 files][  7.5 GiB/  7.5 GiB] 100% Done   2.4 MiB/s ETA 00:00:00         \n",
      "Operation completed over 14 objects/7.5 GiB.                                     \n"
     ]
    }
   ],
   "source": [
    "!gsutil -m cp gs://tahoe100m_bycelllines/*{cell_line}*.h5ad data/cellline/"
   ]
  },
  {
   "cell_type": "code",
   "execution_count": 3,
   "id": "8bdd72f0-4538-45b5-8f8d-bd240e2e96a6",
   "metadata": {},
   "outputs": [
    {
     "name": "stdout",
     "output_type": "stream",
     "text": [
      "['plate3_CVCL_0023.h5ad', 'plate2_CVCL_0023.h5ad', 'plate13_CVCL_0023.h5ad', 'plate1_CVCL_0023.h5ad', 'plate8_CVCL_0023.h5ad', 'plate11_CVCL_0023.h5ad', 'plate10_CVCL_0023.h5ad', 'plate7_CVCL_0023.h5ad', 'plate6_CVCL_0023.h5ad', 'plate4_CVCL_0023.h5ad', 'plate12_CVCL_0023.h5ad', 'plate5_CVCL_0023.h5ad', 'plate14_CVCL_0023.h5ad', 'plate9_CVCL_0023.h5ad']\n",
      "plate3_CVCL_0023.h5ad\n",
      "plate2_CVCL_0023.h5ad\n",
      "plate13_CVCL_0023.h5ad\n",
      "plate1_CVCL_0023.h5ad\n",
      "plate8_CVCL_0023.h5ad\n",
      "plate11_CVCL_0023.h5ad\n",
      "plate10_CVCL_0023.h5ad\n",
      "plate7_CVCL_0023.h5ad\n",
      "plate6_CVCL_0023.h5ad\n",
      "plate4_CVCL_0023.h5ad\n",
      "plate12_CVCL_0023.h5ad\n",
      "plate5_CVCL_0023.h5ad\n",
      "plate14_CVCL_0023.h5ad\n",
      "plate9_CVCL_0023.h5ad\n"
     ]
    }
   ],
   "source": [
    "files = os.listdir(folder)\n",
    "print(files)\n",
    "h5s = []\n",
    "for i,f in enumerate(files):\n",
    "    print(i+1,f)\n",
    "    adata = sc.read_h5ad(folder+f)\n",
    "    h5s.append(adata)"
   ]
  },
  {
   "cell_type": "code",
   "execution_count": 4,
   "id": "012f1edc-2cd6-4f83-8bf2-468a2c2c4296",
   "metadata": {},
   "outputs": [],
   "source": [
    "adata_cellline = sc.concat(h5s)"
   ]
  },
  {
   "cell_type": "code",
   "execution_count": 5,
   "id": "250da922-7eee-4e38-8748-24f4be489edc",
   "metadata": {},
   "outputs": [],
   "source": [
    "adata_cellline.write_h5ad(folder+cell_line+'.h5ad',compression='gzip')"
   ]
  },
  {
   "cell_type": "code",
   "execution_count": 6,
   "id": "7f3857e3-b483-45d3-b6d0-c45e17b16d4a",
   "metadata": {},
   "outputs": [],
   "source": [
    "for h in h5s:\n",
    "    del h"
   ]
  },
  {
   "cell_type": "code",
   "execution_count": 5,
   "id": "3d9d3e53-35a4-4cd8-be28-7ff63c37edba",
   "metadata": {},
   "outputs": [],
   "source": [
    "adata_cellline = sc.read_h5ad(folder+cell_line+'.h5ad')"
   ]
  },
  {
   "cell_type": "code",
   "execution_count": null,
   "id": "f8a49211-d620-489c-9810-06cfd90c69f4",
   "metadata": {},
   "outputs": [
    {
     "data": {
      "text/plain": [
       "AnnData object with n_obs × n_vars = 266448 × 62710\n",
       "    obs: 'sample', 'gene_count', 'tscp_count', 'mread_count', 'drugname_drugconc', 'drug', 'cell_line', 'sublibrary', 'BARCODE', 'pcnt_mito', 'S_score', 'G2M_score', 'phase', 'pass_filter', 'cell_name', 'plate'"
      ]
     },
     "metadata": {},
     "output_type": "display_data"
    },
    {
     "name": "stderr",
     "output_type": "stream",
     "text": [
      "/home/zinovyev/tahoe/lib/python3.11/site-packages/anndata/_core/storage.py:39: ImplicitModificationWarning: X should not be a np.matrix, use np.ndarray instead.\n"
     ]
    }
   ],
   "source": [
    "adata_cellline_sample = sc.pp.sample(adata_cellline,fraction=0.1,copy=True)\n",
    "display(adata_cellline_sample)\n",
    "adata_cellline_sample.X = adata_cellline_sample.X.todense()\n",
    "adata_cellline_sample.write_h5ad(folder+cell_line+'_sample.h5ad',compression='gzip')"
   ]
  },
  {
   "cell_type": "code",
   "execution_count": null,
   "id": "e531770b-5b5c-4e5d-a95d-32bb21bb2777",
   "metadata": {},
   "outputs": [
    {
     "name": "stdout",
     "output_type": "stream",
     "text": [
      "PREPROCESSING PARAMETERS:\n",
      "Already_Log_Transformed= False\n",
      "Normalize_Totals= True\n",
      "number_of_pcs= 20\n",
      "n_neighbours_for_pooling= -1\n",
      "top_variable_genes= 10000\n"
     ]
    }
   ],
   "source": [
    "top_variable_genes = 10000 # if negative then no selection of genes\n",
    "Normalize_Totals = True\n",
    "Already_Log_Transformed = False\n",
    "n_neighbours_for_pooling = -1\n",
    "number_of_pcs = 20\n",
    "\n",
    "print('PREPROCESSING PARAMETERS:')\n",
    "print('Already_Log_Transformed=',Already_Log_Transformed)\n",
    "print('Normalize_Totals=',Normalize_Totals)\n",
    "print('number_of_pcs=',number_of_pcs)\n",
    "print('n_neighbours_for_pooling=',n_neighbours_for_pooling)\n",
    "print('top_variable_genes=',top_variable_genes)\n",
    "\n",
    "if n_neighbours_for_pooling>0:\n",
    "    adatat1 = pooling_procedure(adata_cellline_sample)\n",
    "else:\n",
    "    adatat1 = adata_cellline_sample\n",
    "adatat1 = preprocessing_dataset(adatat1)\n",
    "\n"
   ]
  },
  {
   "cell_type": "code",
   "execution_count": null,
   "id": "265ce449-505c-41d7-868a-00f4eb073d58",
   "metadata": {},
   "outputs": [],
   "source": []
  },
  {
   "cell_type": "code",
   "execution_count": null,
   "id": "42be9f5c-1b94-4776-af7a-87a174733077",
   "metadata": {},
   "outputs": [],
   "source": []
  }
 ],
 "metadata": {
  "kernelspec": {
   "display_name": "singlecell",
   "language": "python",
   "name": "python3"
  },
  "language_info": {
   "codemirror_mode": {
    "name": "ipython",
    "version": 3
   },
   "file_extension": ".py",
   "mimetype": "text/x-python",
   "name": "python",
   "nbconvert_exporter": "python",
   "pygments_lexer": "ipython3",
   "version": "3.12.9"
  }
 },
 "nbformat": 4,
 "nbformat_minor": 5
}
